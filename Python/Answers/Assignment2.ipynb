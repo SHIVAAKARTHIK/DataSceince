{
 "cells": [
  {
   "cell_type": "markdown",
   "id": "9a5b6d83-f614-410e-a5f7-67a07a3678ac",
   "metadata": {},
   "source": [
    "# 1. What are the two values of the Boolean data type? How do you write them?"
   ]
  },
  {
   "cell_type": "markdown",
   "id": "d3929f26-4916-45dd-b892-a830da545dd0",
   "metadata": {},
   "source": [
    "<p>\n",
    "    There are two Boolean data types:\n",
    "    <br>\n",
    "    1. True\n",
    "    <br>\n",
    "    2. Flase\n",
    "</p>"
   ]
  },
  {
   "cell_type": "code",
   "execution_count": 19,
   "id": "726a3bd1-0684-46a8-a41e-1060d5cd85f9",
   "metadata": {},
   "outputs": [
    {
     "name": "stdout",
     "output_type": "stream",
     "text": [
      "True\n",
      "False\n"
     ]
    }
   ],
   "source": [
    "x = True\n",
    "y = False\n",
    "\n",
    "print(x)  # Output: True\n",
    "print(y)  # Output: False\n"
   ]
  },
  {
   "cell_type": "markdown",
   "id": "5e4792ea-103f-4f79-85ab-1e20b60d7d82",
   "metadata": {},
   "source": [
    "# 2. What are the three different types of Boolean operators?"
   ]
  },
  {
   "cell_type": "markdown",
   "id": "6389c56d-b457-4d6c-a0f6-4ecd17face11",
   "metadata": {},
   "source": [
    "- <strong>AND</strong>:\n",
    "    <p>The <strong>AND</strong> operator returns <strong>True</strong> only if both operands are True.<br>In Python, the AND operator is represented by the keyword <strong>'and'</strong>.</p>\n",
    "- <strong>OR</strong>:\n",
    "    <p>The OR operator returns <strong>True</strong> if at least one of the operands is <strong>True</strong>.<br>It returns <strong>False</strong> if both operands are <strong>False</strong><br>In Python, the OR operator is represented by the keyword <strong>'or'</strong>.</p>\n",
    "- <strong>NOT</strong>:\n",
    "    <p>The NOT operator is a unary operator that negates the Boolean value of its operand.<br> If the operand is <strong>True</strong>, the NOT operator returns <strong>False</strong>, and if the operand is <strong>False</strong>, the NOT operator returns <strong>True</strong>.<br>In Python, the NOT operator is represented by the keyword <strong>'not'</strong>.</p>\n",
    "    \n",
    "<p>These Boolean operators are used to perform logical operations and make decisions based on the conditions.<br>They are often used in conjunction with conditional statements like <strong>'if'</strong>, <strong>'elif'</strong>, and <strong>'else'</strong>, as well as in loops and other control structures.</p>\n"
   ]
  },
  {
   "cell_type": "markdown",
   "id": "9cf678e7-d46f-46d3-9678-87782f823812",
   "metadata": {},
   "source": [
    "# 3. Make a list of each Boolean operator's truth tables (i.e. every possible combination of Boolean values for the operator and what it evaluate )."
   ]
  },
  {
   "cell_type": "markdown",
   "id": "9ef3ba73-00ba-491c-9823-40262f539190",
   "metadata": {},
   "source": [
    "AND Operator\n",
    "<br>\n",
    "| Operand 1 | Operand 2 | Result |\n",
    "|-----------|-----------|--------|\n",
    "|   False   |   False   | False  |\n",
    "|   False   |   True    | False  |\n",
    "|   True    |   False   | False  |\n",
    "|   True    |   True    | True   |\n",
    "\n"
   ]
  },
  {
   "cell_type": "markdown",
   "id": "b76e1f93-d10a-409b-978a-7265644a8b7f",
   "metadata": {},
   "source": [
    "OR Operator\n",
    "<br>\n",
    "| Operand 1 | Operand 2 | Result |\n",
    "|-----------|-----------|--------|\n",
    "|   False   |   False   | False  |\n",
    "|   False   |   True    | True   |\n",
    "|   True    |   False   | True   |\n",
    "|   True    |   True    | True   |\n",
    "<br>\n",
    "\n"
   ]
  },
  {
   "cell_type": "markdown",
   "id": "c5f5f934-e485-4087-92fa-4730bf3034db",
   "metadata": {},
   "source": [
    "NOT Operator\n",
    "<br>\n",
    "| Operand | Result |\n",
    "|---------|--------|\n",
    "|  False  |  True  |\n",
    "|  True   | False  |"
   ]
  },
  {
   "cell_type": "markdown",
   "id": "b846225d-d078-4536-bd60-cfc0202df5af",
   "metadata": {},
   "source": [
    "# 4. What are the values of the following expressions?"
   ]
  },
  {
   "cell_type": "markdown",
   "id": "ddc1a372-a500-48b8-8af3-20bbd4257728",
   "metadata": {},
   "source": [
    "| Expressions                    | Values    |\n",
    "|--------------------------------|-----------|\n",
    "|   (5 > 4) and (3 == 5)         |   False      | \n",
    "|   not (5 > 4)                  |   False     | \n",
    "|   (5 > 4) or (3 == 5)              |   False      | \n",
    "|   not ((5 > 4) or (3 == 5))        |   False       | \n",
    "| (True and True) and (True == False)|False   |\n",
    "|(not False) or (not True)|True|"
   ]
  },
  {
   "cell_type": "code",
   "execution_count": 20,
   "id": "e2367e45-ccbc-48f9-a1e7-56074c69496f",
   "metadata": {},
   "outputs": [
    {
     "name": "stdout",
     "output_type": "stream",
     "text": [
      "False\n",
      "False\n",
      "False\n",
      "False\n",
      "False\n",
      "True\n"
     ]
    }
   ],
   "source": [
    "print((5 > 4) and (3 == 5))  #False\n",
    "print(not (5 > 4)) # False\n",
    "print(not ((5 > 4) or (3 == 5)) ) #False\n",
    "print((5 > 4) and (3 == 5)) # False\n",
    "print((True and True) and (True == False)) #Flase\n",
    "print((not False) or (not True)) #True"
   ]
  },
  {
   "cell_type": "markdown",
   "id": "b190d702-3095-4a59-80f2-a2e71bcad7ef",
   "metadata": {},
   "source": [
    "# 5. What are the six comparison operators?"
   ]
  },
  {
   "cell_type": "code",
   "execution_count": 21,
   "id": "82635beb-06bc-40da-8a05-c4f2fbdbfc73",
   "metadata": {},
   "outputs": [
    {
     "name": "stdout",
     "output_type": "stream",
     "text": [
      "False\n",
      "True\n",
      "False\n",
      "True\n",
      "False\n",
      "True\n"
     ]
    }
   ],
   "source": [
    "a = 10\n",
    "b = 20\n",
    "\n",
    "print(a == b)  # Equal to, Output: False\n",
    "print(a != b)  # Not equal to, Output: True\n",
    "print(a > b)   # Greater than, Output: False\n",
    "print(a < b)   # Less than, Output: True\n",
    "print(a >= b)  # Greater than or equal to, Output: False\n",
    "print(a <= b)  # Less than or equal to, Output: True"
   ]
  },
  {
   "cell_type": "markdown",
   "id": "5101dbce-1393-41e0-af84-4e6ad69671dd",
   "metadata": {},
   "source": [
    "# 6. How do you tell the difference between the equal to and assignment operators?Describe a condition and when you would use one."
   ]
  },
  {
   "cell_type": "markdown",
   "id": "a99e6543-c925-4ae5-a0bc-05d4da0ab3a7",
   "metadata": {},
   "source": [
    "<p><strong>1. Equal to operator (==):</strong></p>\n",
    "<p>The equal to operator is used for comparison.It checks if two values are equal or not. <br>When you use the == operator, Python evaluates the expression and returns a Boolean value (True or False) based on whether the values are equal or not.</p>"
   ]
  },
  {
   "cell_type": "code",
   "execution_count": 22,
   "id": "92db0682-73be-40ad-bac7-66502429747b",
   "metadata": {},
   "outputs": [
    {
     "name": "stdout",
     "output_type": "stream",
     "text": [
      "False\n"
     ]
    }
   ],
   "source": [
    "# Example 1\n",
    "x = 10\n",
    "y = 5\n",
    "result = x == y  # Checks if x is equal to y\n",
    "print(result)    # Output: False"
   ]
  },
  {
   "cell_type": "markdown",
   "id": "5bbc1706-3d19-4d5b-bf61-5e291cb72e74",
   "metadata": {},
   "source": [
    "<p><strong>2. Assignment operator (=):</strong></p>\n",
    "<p>The assignment operator is used to assign a value to a variable. It takes the value on the right side and assigns it to the variable on the left side. <br>This operator is used for variable initialization or updating the value of a variable.</p>"
   ]
  },
  {
   "cell_type": "code",
   "execution_count": 23,
   "id": "527ab76c-66eb-4357-ad1c-2b578c1ed3a4",
   "metadata": {},
   "outputs": [],
   "source": [
    "# Example 2\n",
    "x = 10  # Assigns the value 10 to the variable x\n",
    "y = 5   # Assigns the value 5 to the variable y"
   ]
  },
  {
   "cell_type": "code",
   "execution_count": 24,
   "id": "08bfcd91-bf89-4a16-a22e-d201121b5d19",
   "metadata": {},
   "outputs": [
    {
     "name": "stdin",
     "output_type": "stream",
     "text": [
      "Enter your age:  90\n"
     ]
    },
    {
     "name": "stdout",
     "output_type": "stream",
     "text": [
      "You are not eligible to vote yet.\n"
     ]
    }
   ],
   "source": [
    "# Example 3\n",
    "user_age = int(input(\"Enter your age: \"))\n",
    "voting_age = 18\n",
    "\n",
    "if user_age == voting_age:\n",
    "    print(\"You are eligible to vote.\")\n",
    "else:\n",
    "    print(\"You are not eligible to vote yet.\")\n"
   ]
  },
  {
   "cell_type": "markdown",
   "id": "5bbbb405-586e-43a0-8d5c-249eda43cd99",
   "metadata": {},
   "source": [
    "<p><strong>In the above example </strong><br>1. '==' operator used to compare the 'user_age' and 'voting_age'</p>\n",
    "<p>2. '=' operator used to assign the value to the 'voting_age' varable</p>"
   ]
  },
  {
   "cell_type": "markdown",
   "id": "b8696a26-5918-4c2c-995f-29616edf50b3",
   "metadata": {},
   "source": [
    "# 7. Identify the three blocks in this code:"
   ]
  },
  {
   "cell_type": "code",
   "execution_count": 25,
   "id": "5f0753ed-a1cb-46b5-a10a-f7150a9e9182",
   "metadata": {},
   "outputs": [
    {
     "name": "stdout",
     "output_type": "stream",
     "text": [
      "ham\n",
      "spam\n",
      "spam\n"
     ]
    }
   ],
   "source": [
    "spam = 0\n",
    "if spam == 10:\n",
    "    print('eggs')\n",
    "if spam > 5:\n",
    "    print('bacon')\n",
    "else:\n",
    "    print('ham')\n",
    "print('spam')\n",
    "print('spam')\n"
   ]
  },
  {
   "cell_type": "markdown",
   "id": "0ae2de3e-f721-44d5-a83e-3d19b0a35f65",
   "metadata": {},
   "source": [
    "<p>Blocks are sections of code that are grouped together and executed under certain conditions.\n",
    "<br>In Python, blocks are defined by their indentation level.</p>\n",
    "\n",
    "<p>Three blocks are mentsioned below</p>"
   ]
  },
  {
   "cell_type": "code",
   "execution_count": 26,
   "id": "a7a86654-5f01-4d8e-9594-2cb1afca4f8e",
   "metadata": {},
   "outputs": [],
   "source": [
    "# Block 1\n",
    "spam = 0\n",
    "if spam == 10:\n",
    "    print('eggs')"
   ]
  },
  {
   "cell_type": "code",
   "execution_count": 27,
   "id": "2af69f97-37cd-4e8f-9214-780ea2a155cd",
   "metadata": {},
   "outputs": [
    {
     "name": "stdout",
     "output_type": "stream",
     "text": [
      "ham\n"
     ]
    }
   ],
   "source": [
    "# Block 2\n",
    "if spam > 5:\n",
    "    print('bacon')\n",
    "else:\n",
    "    print('ham')"
   ]
  },
  {
   "cell_type": "code",
   "execution_count": 28,
   "id": "a3c3cd2c-e4b4-4640-a737-a87b53b90702",
   "metadata": {},
   "outputs": [
    {
     "name": "stdout",
     "output_type": "stream",
     "text": [
      "spam\n",
      "spam\n"
     ]
    }
   ],
   "source": [
    "# Block 3\n",
    "print('spam')\n",
    "print('spam')"
   ]
  },
  {
   "cell_type": "markdown",
   "id": "8c939795-2d1c-4007-a9d0-114d9d1cb262",
   "metadata": {},
   "source": [
    "<p>The code in each block will be executed based on the condition(s) defined in the if statements.</p>\n",
    "<p>In this case, only Block 3 will be executed since neither Block 1 nor Block 2 meet their respective conditions.</p>"
   ]
  },
  {
   "cell_type": "markdown",
   "id": "5b89d55c-f732-433d-a1af-df34e85c7ea5",
   "metadata": {},
   "source": [
    "# 8. Write code that prints Hello if 1 is stored in spam, prints Howdy if 2 is stored in spam, and prints Greetings! if anything else is stored in spam."
   ]
  },
  {
   "cell_type": "code",
   "execution_count": 29,
   "id": "6f97d007-15cc-4b23-ac8b-8ca60f43fc48",
   "metadata": {},
   "outputs": [
    {
     "name": "stdin",
     "output_type": "stream",
     "text": [
      "Please enter the number:  1\n"
     ]
    },
    {
     "name": "stdout",
     "output_type": "stream",
     "text": [
      "Hello\n"
     ]
    }
   ],
   "source": [
    "spam = int(input(\"Please enter the number: \"))\n",
    "if spam == 1:\n",
    "    print(\"Hello\")\n",
    "elif spam == 2:\n",
    "    print(\"Howdy\")\n",
    "else:\n",
    "    print(\"Greetings!\")"
   ]
  },
  {
   "cell_type": "markdown",
   "id": "d167de79-129b-426c-9595-cff0822e83b4",
   "metadata": {},
   "source": [
    "# 9.If your programme is stuck in an endless loop, what keys you’ll press?"
   ]
  },
  {
   "cell_type": "markdown",
   "id": "472ad888-f063-4705-bc2f-f4857642e475",
   "metadata": {},
   "source": [
    "<p>If the program is stuck in an endless loop, you can try to stop its execution by pressing the \"Ctrl\" and \"C\" keys simultaneously on your keyboard.</p>\n",
    "<p>This key combination sends an interrupt signal to the running program, forcing it to terminate</p>\n",
    "<p>This will stop the endless loop and allow you to regain control over your computer's terminal or command prompt.</p>"
   ]
  },
  {
   "cell_type": "markdown",
   "id": "bcbfbf68-880a-4adc-a79b-01410c0d357b",
   "metadata": {},
   "source": [
    "# 10. How can you tell the difference between break and continue?"
   ]
  },
  {
   "cell_type": "markdown",
   "id": "b400536a-6ffd-4d21-ae96-b2d3969c9cf9",
   "metadata": {},
   "source": [
    "<p>In Python, break and continue are two control flow statements used within loops to alter the flow of execution.</p>"
   ]
  },
  {
   "cell_type": "markdown",
   "id": "df8c9b51-bce2-4ffb-a348-c8a317f08135",
   "metadata": {},
   "source": [
    "1. <strong>break</strong>:\n",
    "<p>The break statement is used to exit or terminate the loop prematurely.<br>The primary purpose of break is to escape the loop when a specific condition is met, regardless of whether the loop has finished its normal iterations or not.</p>"
   ]
  },
  {
   "cell_type": "code",
   "execution_count": 30,
   "id": "86c911e5-ce7a-4d38-87de-0df8b56d11a5",
   "metadata": {},
   "outputs": [
    {
     "name": "stdout",
     "output_type": "stream",
     "text": [
      "0\n",
      "1\n",
      "2\n"
     ]
    }
   ],
   "source": [
    "for i in range(5):\n",
    "    if i == 3:\n",
    "        break\n",
    "    print(i)\n",
    "# In this example, when i becomes 3, the break statement is encountered, causing the loop to terminate prematurely."
   ]
  },
  {
   "cell_type": "markdown",
   "id": "105888d8-8745-47d0-b1ba-b23b3f30f27a",
   "metadata": {},
   "source": [
    "2. <strong>continue</strong>:\n",
    "<p>The continue statement is used to skip the current iteration of the loop and move to the next iteration.<br>The primary purpose of continue is to skip certain iterations based on a condition but continue with the rest of the loop.</p>"
   ]
  },
  {
   "cell_type": "code",
   "execution_count": 31,
   "id": "ac2ef197-7dc1-43bf-b061-a74f94edc181",
   "metadata": {},
   "outputs": [
    {
     "name": "stdout",
     "output_type": "stream",
     "text": [
      "0\n",
      "1\n",
      "3\n",
      "4\n"
     ]
    }
   ],
   "source": [
    "for i in range(5):\n",
    "    if i == 2:\n",
    "        continue\n",
    "    print(i)\n",
    "# In this example, \n",
    "# when i is 2, the continue statement is encountered, causing the loop to skip printing the value 2 and move to the next iteration."
   ]
  },
  {
   "cell_type": "markdown",
   "id": "93080c42-ed6d-4615-9ee5-4a0a582f594a",
   "metadata": {},
   "source": [
    "# 11. In a for loop, what is the difference between range(10), range(0, 10), and range(0, 10, 1)?"
   ]
  },
  {
   "cell_type": "markdown",
   "id": "3acc6e07-d1b4-4e70-9ace-a2d5595f73c3",
   "metadata": {},
   "source": [
    "<p>range() syntax -> <strong>range(start_index,end_index-1,step_size)</strong>.<br>If the start value is not provided, it defaults to 0, and if the step size is not provided, it defaults to 1.</p>"
   ]
  },
  {
   "cell_type": "markdown",
   "id": "841da2e6-e5ed-446d-b192-e5da447ca7ee",
   "metadata": {},
   "source": [
    "1. <strong>range(10)</strong>:\n",
    "    <p>This generates a sequence of integers starting from 0 (default start value) up to 10 (exclusive) with a step size of 1.<br>\n",
    "It will produce the integers: 0, 1, 2, 3, 4, 5, 6, 7, 8, 9.</p>\n",
    "2. <strong>range(0, 10)</strong>\n",
    "    <p>This explicitly sets the start value to 0 and generates a sequence of integers starting from 0 (inclusive) up to 10 (exclusive) with a step size of 1 <br>It will produce the same integers: 0, 1, 2, 3, 4, 5, 6, 7, 8, 9.</p>\n",
    "3. <strong>range(0, 10, 1)</strong>\n",
    "    <p>This explicitly sets the start value to 0, stop value to 10, and step size to 1.<br>It will also produce the same integers: 0, 1, 2, 3, 4, 5, 6, 7, 8, 9.</p>"
   ]
  },
  {
   "cell_type": "code",
   "execution_count": 32,
   "id": "426b3860-c74a-4bd5-904f-115899139722",
   "metadata": {},
   "outputs": [
    {
     "name": "stdout",
     "output_type": "stream",
     "text": [
      "0\n",
      "1\n",
      "2\n",
      "3\n",
      "4\n",
      "5\n",
      "6\n",
      "7\n",
      "8\n",
      "9\n"
     ]
    }
   ],
   "source": [
    "# Example 1 range(10)\n",
    "for i in range(10):\n",
    "    print(i)"
   ]
  },
  {
   "cell_type": "code",
   "execution_count": 33,
   "id": "4bb9ca83-efc2-4506-9c42-089fef91ce29",
   "metadata": {},
   "outputs": [
    {
     "name": "stdout",
     "output_type": "stream",
     "text": [
      "0\n",
      "1\n",
      "2\n",
      "3\n",
      "4\n",
      "5\n",
      "6\n",
      "7\n",
      "8\n",
      "9\n"
     ]
    }
   ],
   "source": [
    "# Example 2 range(0,10)\n",
    "for i in range(0,10):\n",
    "    print(i)"
   ]
  },
  {
   "cell_type": "code",
   "execution_count": 34,
   "id": "f77e2f33-8897-47e3-b7e9-dc3f4ff22e90",
   "metadata": {},
   "outputs": [
    {
     "name": "stdout",
     "output_type": "stream",
     "text": [
      "0\n",
      "1\n",
      "2\n",
      "3\n",
      "4\n",
      "5\n",
      "6\n",
      "7\n",
      "8\n",
      "9\n"
     ]
    }
   ],
   "source": [
    "# Example 3 range(0,10,1)\n",
    "for i in range(0,10,1):\n",
    "    print(i)"
   ]
  },
  {
   "cell_type": "markdown",
   "id": "2bfc9458-5ac4-44e7-8fcf-2aee23b66631",
   "metadata": {},
   "source": [
    "# 12. Write a short program that prints the numbers 1 to 10 using a for loop. Then write an equivalent program that prints the numbers 1 to 10 using a while loop."
   ]
  },
  {
   "cell_type": "code",
   "execution_count": 35,
   "id": "421b3bda-9e8f-4d7a-982b-54a05318c660",
   "metadata": {},
   "outputs": [
    {
     "name": "stdout",
     "output_type": "stream",
     "text": [
      "1\n",
      "2\n",
      "3\n",
      "4\n",
      "5\n",
      "6\n",
      "7\n",
      "8\n",
      "9\n",
      "10\n"
     ]
    }
   ],
   "source": [
    "for i in range(1,11):\n",
    "    print(i)"
   ]
  },
  {
   "cell_type": "code",
   "execution_count": 36,
   "id": "e6022c59-5006-4bfb-946c-249d30b82b14",
   "metadata": {},
   "outputs": [
    {
     "name": "stdout",
     "output_type": "stream",
     "text": [
      "1\n",
      "2\n",
      "3\n",
      "4\n",
      "5\n",
      "6\n",
      "7\n",
      "8\n",
      "9\n",
      "10\n"
     ]
    }
   ],
   "source": [
    "num = 1\n",
    "while num<=10:\n",
    "    print(num)\n",
    "    num += 1"
   ]
  },
  {
   "cell_type": "markdown",
   "id": "b5537e60-4193-42f3-90b7-a430d76c00a6",
   "metadata": {},
   "source": [
    "# 13. If you had a function named bacon() inside a module named spam, how would you call it after importing spam?"
   ]
  },
  {
   "cell_type": "markdown",
   "id": "75636f28-e742-43e1-a7b3-1abe592e1258",
   "metadata": {},
   "source": [
    "import spam\n",
    "\n",
    "spam.bacon()\n"
   ]
  },
  {
   "cell_type": "code",
   "execution_count": null,
   "id": "84494f1f-1d9b-40d8-88e1-890d84b254ad",
   "metadata": {},
   "outputs": [],
   "source": []
  }
 ],
 "metadata": {
  "kernelspec": {
   "display_name": "Python 3 (ipykernel)",
   "language": "python",
   "name": "python3"
  },
  "language_info": {
   "codemirror_mode": {
    "name": "ipython",
    "version": 3
   },
   "file_extension": ".py",
   "mimetype": "text/x-python",
   "name": "python",
   "nbconvert_exporter": "python",
   "pygments_lexer": "ipython3",
   "version": "3.10.6"
  }
 },
 "nbformat": 4,
 "nbformat_minor": 5
}
