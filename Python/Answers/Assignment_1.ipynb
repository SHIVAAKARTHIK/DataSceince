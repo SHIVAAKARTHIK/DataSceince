{
 "cells": [
  {
   "cell_type": "markdown",
   "id": "4906c0aa-d869-4644-82cd-2c0941c3a07f",
   "metadata": {
    "tags": []
   },
   "source": [
    "# 1. In the below elements which of them are values or an expression? eg:- values can be integer or string and expressions will be mathematical operators.\n"
   ]
  },
  {
   "cell_type": "markdown",
   "id": "a05400c9-beab-47b3-a842-0f5a491ffa9c",
   "metadata": {},
   "source": [
    "### Answer\n",
    "\n",
    "| Elements | Answer |\n",
    "| --- | --- |\n",
    "|  * | Expression |\n",
    "| 'hello' | Value |\n",
    "| -87.8  | Value |\n",
    "| -  | Expression |\n",
    "| /  | Expression |\n",
    "| +  | Expression |\n",
    "| 6  | Value |\n"
   ]
  },
  {
   "cell_type": "markdown",
   "id": "b2f3d745-4a2a-44e2-b62f-fc8da2c64b9e",
   "metadata": {},
   "source": [
    "# 2. What is the difference between string and variable"
   ]
  },
  {
   "cell_type": "markdown",
   "id": "4167c1bb-3bd0-4884-9088-8963d62c91a2",
   "metadata": {},
   "source": [
    "<p>\n",
    "    <strong>\n",
    "        String:\n",
    "    </strong>\n",
    "    <br>\n",
    "    1. String is a datatype that reprtesents a sequence of characters eclosed with single (') or double quotes (\")\n",
    "    <br>\n",
    "    2. They can contain letters, digits, symbols, and special characters\n",
    "    <br>\n",
    "    3. Strings are immutable, meaning their values cannot be changed once created\n",
    "    <br>\n",
    "    Example:\n",
    "    <br>\n",
    "    'My name is Karthik'\n",
    "    <br>\n",
    "    \"My age is 30\"\n",
    "    <br>\n",
    "    <br>\n",
    "    <strong>\n",
    "        Variable:\n",
    "    </strong>\n",
    "    <br>\n",
    "    1. Variable is a named container that holds a value\n",
    "    <br>\n",
    "    2. It is used to store and represent data of various types like integer, float, string \n",
    "    <br>\n",
    "    3. Variables are created by assigning a value to a name using the assignment operator (=)\n",
    "    <br>\n",
    "    4. Once a variable is defined, it can be used to refer to the value it holds throughout the program\n",
    "    <br>\n",
    "    Example:\n",
    "    <br>\n",
    "    name = 'Karthik'\n",
    "    <br>\n",
    "    value = 49.01\n",
    "</p>"
   ]
  },
  {
   "cell_type": "markdown",
   "id": "efa47e82-72b7-48fc-89ef-a4f3b1b7575a",
   "metadata": {},
   "source": [
    "# 3.Describe three different data types."
   ]
  },
  {
   "cell_type": "markdown",
   "id": "a639cdbf-bf02-4f69-8eea-3a44ecb1f4fe",
   "metadata": {},
   "source": [
    "<p><strong>Data types in Python</strong></p>"
   ]
  },
  {
   "cell_type": "markdown",
   "id": "54cdbc3f-53ad-489f-a0ba-cb2a296331a2",
   "metadata": {},
   "source": [
    "<p><strong>Integers</strong>: Integers are whole numbers, without a fractional component. They can be positive or negative.</p>"
   ]
  },
  {
   "cell_type": "code",
   "execution_count": 5,
   "id": "060e1e9b-7d8b-40db-bc19-f13559a2541c",
   "metadata": {},
   "outputs": [],
   "source": [
    "x = 10\n",
    "y = -9"
   ]
  },
  {
   "cell_type": "markdown",
   "id": "aa7b5027-1d73-469d-b44f-63717c42bb0d",
   "metadata": {},
   "source": [
    "<p><strong>Float</strong>: Floats represent real numbers and are written with a decimal point.</p>"
   ]
  },
  {
   "cell_type": "code",
   "execution_count": 1,
   "id": "2584e347-7da1-426c-a453-afce70ae2df0",
   "metadata": {},
   "outputs": [],
   "source": [
    "a = 2.09\n",
    "b = -0.03\n",
    "c = 12.12398125"
   ]
  },
  {
   "cell_type": "markdown",
   "id": "15a628fe-0bd0-4be0-85a5-97da763ae571",
   "metadata": {},
   "source": [
    "<p><strong>Strings</strong>: Strings in Python are sequences of character data. They are created by enclosing characters in singel quotes or double quotes.</p>"
   ]
  },
  {
   "cell_type": "code",
   "execution_count": 2,
   "id": "83515096-ce6b-4d77-bdb7-5d7b9775feee",
   "metadata": {},
   "outputs": [
    {
     "data": {
      "text/plain": [
       "'Hello, My name is Karthik!'"
      ]
     },
     "execution_count": 2,
     "metadata": {},
     "output_type": "execute_result"
    }
   ],
   "source": [
    "s = 'Hello, My name is Karthik!'\n",
    "s"
   ]
  },
  {
   "cell_type": "markdown",
   "id": "11d99f6a-383b-49d6-adfe-3ac410271afe",
   "metadata": {},
   "source": [
    "# 4.What is an expression made up of? What do all expressions do?"
   ]
  },
  {
   "cell_type": "markdown",
   "id": "76715cd5-7823-40be-bb2d-ca173ceed712",
   "metadata": {},
   "source": [
    "<p>Expression is a combination of values, variables, operators, and functions that can be evaluated to produce a result</p>\n",
    "<p>\n",
    "     <strong>Values</strong>: These can be numeric or string <br>ex: 5,'hello', -0.09\n",
    "</p>\n",
    "<p>\n",
    "    <strong>Variables</strong>: These represent named storage locations that hold values.<br> Ex: a = 1, b = 'hello'\n",
    "</p>\n",
    "<p>\n",
    "    <strong>Operators</strong>: These are symbols or keywords used to perform operations on values or variables.<br> Airthemetic operator: (+, -, *, /)\n",
    "<br> Comparison operators: (>, <, ==)\n",
    "<br> Logical operators: (&&, ||)\n",
    "</p>\n",
    "<p>\n",
    "    <strong>Function</strong> : Expressions can invoke functions, which are reusable blocks of code that perform specific tasks. Functions can accept arguments (values passed into the function) and return a result.\n",
    "</p>\n"
   ]
  },
  {
   "cell_type": "markdown",
   "id": "df49a51a-9301-4af2-9d1b-ace2ea7ef305",
   "metadata": {},
   "source": [
    "# 5.This assignment statements, like spam = 10. What is the difference between an expression and a statement?"
   ]
  },
  {
   "cell_type": "markdown",
   "id": "c3fcca07-ac8b-43d6-8071-0502825c713d",
   "metadata": {},
   "source": [
    "<p>\n",
    "    In programming, expressions and statements are two fundamental concepts that serve different purposes:\n",
    "    \n",
    "</p>\n",
    "<p>\n",
    "    <strong>\n",
    "        Expression:\n",
    "    </strong>\n",
    "    <br>\n",
    "    1. An expression is a combination of values, variables, operators, and function calls that can be evaluated to produce a result<br>\n",
    "    2. expressions always produce a value\n",
    "    <br>\n",
    "    3. Expressions are used to compute and produce a value that can be assigned to a variable, passed as an argument, or used in other expressions.\n",
    "    <br>\n",
    "    Example, in the expression \"2 + 3\", \n",
    "    <br>\n",
    "    * The addition operator is applied to the values 2 and 3, resulting in the value 5\n",
    "   <br>\n",
    "    * Perform calculations, compare values, or pass values as arguments to functions.\n",
    "</p>\n",
    "\n",
    "<p>\n",
    "    <strong>\n",
    "        Statement:\n",
    "    </strong>\n",
    "    <br>\n",
    "    1. Statement is a complete instruction or command to perform an action\n",
    "    <br>\n",
    "    2. It represent a specific operation or control flow in a program\n",
    "    <br>\n",
    "    3. Statements can include assignments, loops, conditional branching, function calls\n",
    "    <br>\n",
    "    Example, spam = 10 and if x > 5: print(\"x is greater than 5\")\n",
    "    <br>\n",
    "    * Statment are used to control the flow of execution\n",
    "    <br>\n",
    "    * Perform tasks like altering the program state, making decisions, or repeating actions.\n",
    "</p>"
   ]
  },
  {
   "cell_type": "markdown",
   "id": "261d9710-a832-4bb7-bc1b-cc1ffd73fb74",
   "metadata": {},
   "source": [
    "# 6.After running the following code, what does the variable bacon contain?\n",
    "# bacon = 22\n",
    "# bacon + 1\n"
   ]
  },
  {
   "cell_type": "code",
   "execution_count": 3,
   "id": "d023f1c5-e4e3-4634-ac0b-687dbc690486",
   "metadata": {},
   "outputs": [
    {
     "data": {
      "text/plain": [
       "22"
      ]
     },
     "execution_count": 3,
     "metadata": {},
     "output_type": "execute_result"
    }
   ],
   "source": [
    "bacon = 22\n",
    "bacon + 1\n",
    "bacon \n",
    "# Answer will be 22\n",
    "# 'bacon +  1' is not assigned back to bacon variable"
   ]
  },
  {
   "cell_type": "markdown",
   "id": "c5f228ba-1b75-4fad-b7e8-2efd89b78c85",
   "metadata": {},
   "source": [
    "# 7. What should the values of the following two terms be?\n",
    "# 'spam' + 'spamspam'\n",
    "# 'spam' * 3\n"
   ]
  },
  {
   "cell_type": "code",
   "execution_count": 7,
   "id": "3813e107-42ba-4c35-961e-ff5e5c1d686d",
   "metadata": {},
   "outputs": [
    {
     "data": {
      "text/plain": [
       "'spamspamspam'"
      ]
     },
     "execution_count": 7,
     "metadata": {},
     "output_type": "execute_result"
    }
   ],
   "source": [
    "'spam' + 'spamspam'\n",
    "# Answer - 'spamspamspam' Concatination of the strings"
   ]
  },
  {
   "cell_type": "code",
   "execution_count": 8,
   "id": "14994bef-b772-44fa-ae3c-ec8c760ebba5",
   "metadata": {},
   "outputs": [
    {
     "data": {
      "text/plain": [
       "'spamspamspam'"
      ]
     },
     "execution_count": 8,
     "metadata": {},
     "output_type": "execute_result"
    }
   ],
   "source": [
    "'spam'*3\n",
    "# Answer - 'spamspamspam' uses multiplication operator (*) to repeat the string"
   ]
  },
  {
   "cell_type": "markdown",
   "id": "0d46e9b4-e924-4b3a-8d53-c545e28f03f1",
   "metadata": {},
   "source": [
    "# 8. Why is eggs a valid variable name while 100 is invalid?"
   ]
  },
  {
   "cell_type": "markdown",
   "id": "8477c8df-3e7c-43a6-8773-b9ef74c78b0b",
   "metadata": {},
   "source": [
    "<p>\n",
    "Variable names can consist of letters both uppercase and lowercase, digits, and underscores (_). However, they must start with a letter or an underscore, not a digit.    \n",
    "</p>\n",
    "<p>\n",
    "<strong>egg</strong>: Valid variable because, the variable name starts from letter\n",
    "</p>\n",
    "<p>\n",
    "<strong>100</strong>: Invalid valid variable because, the variable name starts from digit\n",
    "</p>"
   ]
  },
  {
   "cell_type": "markdown",
   "id": "32e82fbe-e773-491a-9945-0ae1e6a0dd93",
   "metadata": {},
   "source": [
    "# 9. What three functions can be used to get the integer, floating-point number, or string version of a value?"
   ]
  },
  {
   "cell_type": "markdown",
   "id": "c0f6d99f-525c-47ed-8a68-094e15b73ef1",
   "metadata": {},
   "source": [
    "<p>\n",
    "<strong>int()</strong>: This function can be used to convert the value to an interger. It takes the single argument and converts to integer type and return the value\n",
    "<p>\n",
    "ex: value = int(12.4) \n",
    "output -> 12\n",
    "</p>\n",
    "</p>"
   ]
  },
  {
   "cell_type": "code",
   "execution_count": 18,
   "id": "f0b49b04-edb0-46f5-84fb-9fdee3aa0d74",
   "metadata": {},
   "outputs": [
    {
     "data": {
      "text/plain": [
       "12"
      ]
     },
     "execution_count": 18,
     "metadata": {},
     "output_type": "execute_result"
    }
   ],
   "source": [
    "value = int(12.4)\n",
    "value # 12"
   ]
  },
  {
   "cell_type": "markdown",
   "id": "8672e4cf-5cdf-492a-a9ad-038295196ce6",
   "metadata": {},
   "source": [
    "<p>\n",
    "<strong>float()</strong>: This function can be used to convert the value to an floating point number [decimal number]. It takes the single argument and convert it to float type and retunr the value\n",
    "<p>\n",
    "ex: value = float(12.4) \n",
    "output -> 12.4\n",
    "</p>\n",
    "</p>"
   ]
  },
  {
   "cell_type": "code",
   "execution_count": 19,
   "id": "63ddb490-a790-429c-b66f-9e355a007115",
   "metadata": {},
   "outputs": [
    {
     "data": {
      "text/plain": [
       "12.4"
      ]
     },
     "execution_count": 19,
     "metadata": {},
     "output_type": "execute_result"
    }
   ],
   "source": [
    "value = float(12.4)\n",
    "value # 12.4"
   ]
  },
  {
   "cell_type": "markdown",
   "id": "14d730b0-8b76-45ad-91b0-fa2a61fca62e",
   "metadata": {},
   "source": [
    "<p>\n",
    "<strong>str()</strong>: This function used to convert a value to its string representation. It takes the single argument and returns the string version of the value\n",
    "<p>\n",
    "ex: value = str(12.4) \n",
    "output -> \"12.4\"\n",
    "</p>\n",
    "</p>"
   ]
  },
  {
   "cell_type": "code",
   "execution_count": 20,
   "id": "e86daca6-6497-44c6-b2e1-937d8b103f12",
   "metadata": {},
   "outputs": [
    {
     "data": {
      "text/plain": [
       "'12.4'"
      ]
     },
     "execution_count": 20,
     "metadata": {},
     "output_type": "execute_result"
    }
   ],
   "source": [
    "value = str(12.4)\n",
    "value # \"12.4\""
   ]
  },
  {
   "cell_type": "markdown",
   "id": "df4ec3b5-7a04-43da-a9a6-f3d5c110bd40",
   "metadata": {},
   "source": [
    "# 10. Why does this expression cause an error? How can you fix it?\n",
    "# 'I have eaten ' + 99 + ' burritos.'\n"
   ]
  },
  {
   "cell_type": "code",
   "execution_count": 21,
   "id": "8784116c-b439-44b0-8233-c5cdc25d875c",
   "metadata": {},
   "outputs": [
    {
     "ename": "TypeError",
     "evalue": "can only concatenate str (not \"int\") to str",
     "output_type": "error",
     "traceback": [
      "\u001b[0;31m---------------------------------------------------------------------------\u001b[0m",
      "\u001b[0;31mTypeError\u001b[0m                                 Traceback (most recent call last)",
      "Cell \u001b[0;32mIn [21], line 1\u001b[0m\n\u001b[0;32m----> 1\u001b[0m \u001b[38;5;124;43m'\u001b[39;49m\u001b[38;5;124;43mI have eaten \u001b[39;49m\u001b[38;5;124;43m'\u001b[39;49m\u001b[43m \u001b[49m\u001b[38;5;241;43m+\u001b[39;49m\u001b[43m \u001b[49m\u001b[38;5;241;43m99\u001b[39;49m \u001b[38;5;241m+\u001b[39m \u001b[38;5;124m'\u001b[39m\u001b[38;5;124m burritos.\u001b[39m\u001b[38;5;124m'\u001b[39m\n",
      "\u001b[0;31mTypeError\u001b[0m: can only concatenate str (not \"int\") to str"
     ]
    }
   ],
   "source": [
    "'I have eaten ' + 99 + ' burritos.'"
   ]
  },
  {
   "cell_type": "markdown",
   "id": "326ae40b-c08a-4e59-98b7-5fbea953d47c",
   "metadata": {},
   "source": [
    "<p>As we can see in the above cell</p>\n",
    "<p>In python we can concatinate only string type and not interger or float type</p>\n",
    "<p><strong>Correction</strong></p>\n",
    "<p>'I have eaten ' + '99' + ' burritos.'</p>\n",
    "<p>Made the integer 99 to string type by enclosing it wiht quotes</p>\n",
    "<p>'I have eaten ' + str(99) + ' burritos.'</p>\n",
    "<p>Made the integer 99 to string type using str() function</p>\n",
    "\n"
   ]
  },
  {
   "cell_type": "code",
   "execution_count": 23,
   "id": "f69e3f27-de27-4b7c-a4d1-24bae1c0a13f",
   "metadata": {},
   "outputs": [
    {
     "data": {
      "text/plain": [
       "'I have eaten 99 burritos.'"
      ]
     },
     "execution_count": 23,
     "metadata": {},
     "output_type": "execute_result"
    }
   ],
   "source": [
    "'I have eaten ' + '99' + ' burritos.'"
   ]
  },
  {
   "cell_type": "code",
   "execution_count": 24,
   "id": "27b25fca-22ef-4e51-8a13-850f62436d67",
   "metadata": {},
   "outputs": [
    {
     "data": {
      "text/plain": [
       "'I have eaten 99 burritos.'"
      ]
     },
     "execution_count": 24,
     "metadata": {},
     "output_type": "execute_result"
    }
   ],
   "source": [
    "'I have eaten ' + str(99) + ' burritos.'"
   ]
  },
  {
   "cell_type": "code",
   "execution_count": null,
   "id": "24555081-4f96-408a-83de-8800a3c4d861",
   "metadata": {},
   "outputs": [],
   "source": []
  }
 ],
 "metadata": {
  "kernelspec": {
   "display_name": "Python 3 (ipykernel)",
   "language": "python",
   "name": "python3"
  },
  "language_info": {
   "codemirror_mode": {
    "name": "ipython",
    "version": 3
   },
   "file_extension": ".py",
   "mimetype": "text/x-python",
   "name": "python",
   "nbconvert_exporter": "python",
   "pygments_lexer": "ipython3",
   "version": "3.10.6"
  }
 },
 "nbformat": 4,
 "nbformat_minor": 5
}
