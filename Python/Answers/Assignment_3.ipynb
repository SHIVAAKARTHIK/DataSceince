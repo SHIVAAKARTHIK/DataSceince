{
 "cells": [
  {
   "cell_type": "markdown",
   "id": "04e64a21-8346-4f29-8445-567011d1a320",
   "metadata": {},
   "source": [
    "# 1. Why are functions advantageous to have in your programs?"
   ]
  },
  {
   "cell_type": "markdown",
   "id": "404c0dd2-655b-4727-905f-d32f16853073",
   "metadata": {},
   "source": [
    "- Modularity and Reusability:\n",
    "    - Functions allow you to break down your code into smaller, manageable, and reusable pieces\n",
    "    - We can use it multiple times throughout your program or even in different projects, saving you time and effort.\n",
    "- Abstraction:\n",
    "    - Functions provide an abstraction layer that hides the complex implementation details of a task\n",
    "- Code Organization:\n",
    "    - Functions allow you to logically group related tasks together.\n",
    "    - This improves the overall organization of your codebase and makes it easier to navigate and understand the program's structure.\n",
    "- Testing and Debugging:\n",
    "    - Smaller functions are generally easier to test and debug than large monolithic pieces of code\n",
    "    - We can write unit tests for individual functions to ensure they work correctly, which aids in catching errors early in the development process.\n",
    "- Code Efficiency:\n",
    "    - Functions can help optimize your code by avoiding redundant code\n",
    "    - This can lead to more efficient and faster-running programs.\n",
    "- Scalability:\n",
    "    - As your program grows, functions allow you to scale your codebase more easily. \n",
    "    - You can add new functionality by simply creating new functions, rather than modifying existing code.\n",
    "- Encapsulation: \n",
    "    - Functions allow you to encapsulate data and behavior, promoting better data management and reducing the risk of unintentional data modification.\n",
    "    \n",
    "<p>Functions are a fundamental building block of programming that promote code reusability, modularity, readability, maintainability, and overall software quality.</p>"
   ]
  },
  {
   "cell_type": "markdown",
   "id": "0d7a0dd7-5d4a-4ba7-9c78-30b35c268856",
   "metadata": {},
   "source": [
    "# 2. When does the code in a function run: when it's specified or when it's called?"
   ]
  },
  {
   "cell_type": "markdown",
   "id": "48c9c9fe-756f-4af3-b24a-8afa4bc79ff0",
   "metadata": {},
   "source": [
    "<p>The code within a function runs when the function is called, not when it is specified or defined. <br>In programming, defining a function involves writing the code that defines its behavior, but this code does not execute until the function is actually called in the program's execution flow.</p>\n",
    "<p>Seqeuence of events</p>\n",
    "\n",
    "- Funtion Definition\n",
    "- Function Call\n",
    "- Function Execution\n",
    "- Return the value (if return statement is mentioned)\n",
    "- Continuation of Program"
   ]
  },
  {
   "cell_type": "markdown",
   "id": "7d2daeff-0768-443f-81f7-30d4bb452748",
   "metadata": {},
   "source": [
    "# 3. What statement creates a function?"
   ]
  },
  {
   "cell_type": "markdown",
   "id": "3aefd61d-3fbf-4ce5-9cef-4179a271be24",
   "metadata": {},
   "source": [
    "<p>In programming language, the perticular key word is used to create the function.<br>\n",
    "In python programming language 'def' key word followed by the function name is used to creat the function</p>"
   ]
  },
  {
   "cell_type": "code",
   "execution_count": 9,
   "id": "dff4c37c-0b9e-468f-8ca4-33411da2d671",
   "metadata": {},
   "outputs": [],
   "source": [
    "# Example \n",
    "def func_name():\n",
    "    pass\n",
    "    # Function code "
   ]
  },
  {
   "cell_type": "markdown",
   "id": "7d867c3f-e112-4330-857b-172b803e8923",
   "metadata": {},
   "source": [
    "# 4. What is the difference between a function and a function call?"
   ]
  },
  {
   "cell_type": "markdown",
   "id": "76909bec-4882-4e6d-a544-1f8d05dbb97f",
   "metadata": {},
   "source": [
    "- Function:\n",
    "    - A function is a reusable block of code that performs a specific task or set of tasks\n",
    "    - It encapsulates a series of instructions that can be executed whenever the function is called. \n",
    "    - Functions allow you to define a piece of logic or behavior that can be used multiple times throughout your program.\n",
    "    - When we create a function, you define its structure, including its name, parameters\n",
    "    - Function the code that should be executed when the function is called\n",
    "- Function Call:\n",
    "    - A function call (also known as invoking or executing a function) is the action of actually using a function in your code.\n",
    "    - When we call a function, we provide the necessary arguments or parameters that the function requires, and the function's code is executed. \n",
    "    - A function call is the way you trigger the execution of the specific tasks defined within the function. It's the point where the code inside the function starts running.\n",
    "    \n",
    "<p>Function is a reusable unit of code that defines a specific behavior, while a function call is the action of using (calling) that function to execute</p>"
   ]
  },
  {
   "cell_type": "markdown",
   "id": "a11768fb-8ef9-4606-8ec2-18b91bba49bd",
   "metadata": {},
   "source": [
    "# 5. How many global scopes are there in a Python program? How many local scopes?"
   ]
  },
  {
   "cell_type": "markdown",
   "id": "59d61497-604d-4823-a413-17937a45870d",
   "metadata": {},
   "source": [
    "<p>In a Python program, there is one global scope and multiple local scopes.</p>\n",
    "\n",
    "- Global Scope:\n",
    "    - The global scope refers to the outermost level of a Python program.\n",
    "    - It's the top-level environment where variables and functions are defined outside of any function or class. \n",
    "    - Variables and functions defined in the global scope are accessible from anywhere within the program, including within functions and classes.\n",
    "- Local Scope:\n",
    "    - Local scopes are created whenever a function is called.Each function call creates a new local scope.\n",
    "    - Variables and objects defined within a function are local to that function's scope and can only be accessed within the function. \n",
    "    - They are not accessible from outside the function unless they are explicitly returned.\n",
    "- Nested Scope:\n",
    "    - Nested scopes occur when functions are defined within other functions, creating a chain of local scopes.\n",
    "    "
   ]
  },
  {
   "cell_type": "code",
   "execution_count": 10,
   "id": "9b3f7610-4e94-401e-91d3-21c119508326",
   "metadata": {},
   "outputs": [
    {
     "name": "stdout",
     "output_type": "stream",
     "text": [
      "10 20 30\n"
     ]
    }
   ],
   "source": [
    "# Example:\n",
    "global_var = 10  # Global scope\n",
    "def outer_function():\n",
    "    outer_var = 20  # Local scope of outer_function\n",
    "    def inner_function():\n",
    "        inner_var = 30  # Local scope of inner_function\n",
    "        print(global_var, outer_var, inner_var)\n",
    "    \n",
    "    inner_function()\n",
    "\n",
    "outer_function()\n",
    "# global_var is in the global scope, \n",
    "# outer_var is in the local scope of outer_function,\n",
    "# inner_var is in the local scope of inner_function.\n",
    "# The inner function can access variables from both its local scope and the outer function's local scope, as well as the global scope.\n"
   ]
  },
  {
   "cell_type": "markdown",
   "id": "a59f8c99-ba0b-4739-918d-a23884012a14",
   "metadata": {},
   "source": [
    "# 6. What happens to variables in a local scope when the function call returns?"
   ]
  },
  {
   "cell_type": "markdown",
   "id": "2838a368-bf7c-45e8-84f7-44ed837e5b7c",
   "metadata": {},
   "source": [
    "<p>When a function call returns in Python, the local scope of that function is destroyed, and the variables defined within that local scope cease to exist. This process is known as \"scope exit\" or \"scope cleanup.\"</p>\n",
    "\n",
    "- Variable:\n",
    "    - Variables created within a function's local scope are only accessible and relevant while the function is executing.\n",
    "    - They are created when the function is called and initialized with values, and they exist throughout the function's execution.\n",
    "- Scope Exit:\n",
    "    - Once the function completes its execution and returns a value (if applicable), its local scope is torn down, and all variables defined within that scope are deallocated\n",
    "    - This means that any data stored in those variables is lost and remove from the memory\n",
    "- Returning Values:\n",
    "    - If the function has a return statement, the value specified in the return statement is passed back to the caller.\n",
    "    - This value can be used by the caller or assigned to a variable in the caller's scope."
   ]
  },
  {
   "cell_type": "code",
   "execution_count": 11,
   "id": "48474cb6-c1ac-41ae-abc0-cd5c5310d8b6",
   "metadata": {},
   "outputs": [
    {
     "name": "stdout",
     "output_type": "stream",
     "text": [
      "10\n"
     ]
    }
   ],
   "source": [
    "# Example \n",
    "def my_function():\n",
    "    local_var = 10  # Local variable\n",
    "    return local_var\n",
    "\n",
    "result = my_function()  # Function call\n",
    "print(result)  # Output: 10\n",
    "\n",
    "# Attempting to access local_var outside of its scope will result in an error\n",
    "# print(local_var)  # Uncommenting this line will raise a NameError\n",
    "\n",
    "\n",
    "# 'local_var' variable is created within the local scope of the my_function function\n",
    "#  When the function is called, it returns the value of local_var, which is assigned to the result variable\n"
   ]
  },
  {
   "cell_type": "markdown",
   "id": "7daf3a80-bd45-45d6-8055-f6e9f1836ba4",
   "metadata": {},
   "source": [
    "# 7. What is the concept of a return value? Is it possible to have a return value in an expression?"
   ]
  },
  {
   "cell_type": "markdown",
   "id": "c4b3f9d4-59ac-4912-9656-d641d955ad46",
   "metadata": {},
   "source": [
    "<p>The concept of a return value is fundamental in programming and refers to the value that a function provides back to the caller when the function is executed.<br> When a function is designed to produce a result, it can use a <strong>'return'</strong> statement to send that result back to the code that called the function.</p>\n",
    "<p>The return statement is used to specify what value the function should \"return\".<br> This returned value can then be used in expressions, assigned to variables, or processed further by the calling code.</p>"
   ]
  },
  {
   "cell_type": "code",
   "execution_count": 12,
   "id": "ebc88f10-5b9b-443c-9f70-196236910060",
   "metadata": {},
   "outputs": [
    {
     "name": "stdout",
     "output_type": "stream",
     "text": [
      "8\n"
     ]
    }
   ],
   "source": [
    "# Example\n",
    "def add(x, y):\n",
    "    result = x + y\n",
    "    return result\n",
    "\n",
    "total = add(5, 3)  # Call the function and store the returned value in 'total'\n",
    "print(total)      # Output: 8\n"
   ]
  },
  {
   "cell_type": "markdown",
   "id": "815b09b2-4697-4677-a666-a4cc9b2c95f2",
   "metadata": {},
   "source": [
    "<p><strong>Is it possible to have a return value in an expression</strong> - Yes, we can use the return value in an expression</p>"
   ]
  },
  {
   "cell_type": "code",
   "execution_count": 13,
   "id": "23bf7e89-6998-4036-bcf1-4076419cb7ff",
   "metadata": {},
   "outputs": [
    {
     "name": "stdout",
     "output_type": "stream",
     "text": [
      "20\n"
     ]
    }
   ],
   "source": [
    "def multiply(x, y):\n",
    "    return x * y\n",
    "\n",
    "result = multiply(4, add(2, 3))  # Using return values in an expression\n",
    "print(result)                     # Output: 20 (4 * (2 + 3) = 20)\n",
    "\n",
    "# The return value of the add function is directly used as an argument to the multiply function"
   ]
  },
  {
   "cell_type": "markdown",
   "id": "53bd2688-dc4e-4fea-9ba9-2a90c41cc2e7",
   "metadata": {},
   "source": [
    "- A return value is the value that a function gives back to the caller upon execution. \n",
    "- This return value can be used in expressions, assigned to variables, or manipulated further to achieve specific outcomes in our code"
   ]
  },
  {
   "cell_type": "markdown",
   "id": "b3c1c92a-d3e3-40f4-97a9-e15faebb2a80",
   "metadata": {},
   "source": [
    "# 8. If a function does not have a return statement, what is the return value of a call to that function?"
   ]
  },
  {
   "cell_type": "markdown",
   "id": "d7ebecf9-de92-42fb-8acd-cfbaa10f606e",
   "metadata": {},
   "source": [
    "- If a function does not have a return statement, the return value of a call to that function is \"None\".\n",
    "- In Python, None is a special value that represents the absence of a meaningful result or value.\n",
    "- When a function without a return statement is executed, it performs its intended operations or tasks, but it doesn't explicitly specify a value to be returned to the caller.\n",
    "- As a result, Python automatically assigns the value None as the return value for that function."
   ]
  },
  {
   "cell_type": "code",
   "execution_count": 14,
   "id": "791d7f8a-d5dc-4d3e-ab18-8ce98a0863fb",
   "metadata": {},
   "outputs": [
    {
     "name": "stdout",
     "output_type": "stream",
     "text": [
      "Hello World\n",
      "None\n"
     ]
    }
   ],
   "source": [
    "# Example\n",
    "def test_return(name):\n",
    "    print(f\"Hello {name}\")\n",
    "\n",
    "result = test_return(\"World\")\n",
    "print(result)  # Output - None"
   ]
  },
  {
   "cell_type": "markdown",
   "id": "d297cc57-8e98-4bee-ba34-de30b8efe5f2",
   "metadata": {},
   "source": [
    "# 9. How do you make a function variable refer to the global variable?"
   ]
  },
  {
   "cell_type": "markdown",
   "id": "11d9f003-428f-40d9-9759-f51f562e0ca2",
   "metadata": {},
   "source": [
    "- if we want to access or modify a global variable from within a function, we need to indicate that we are referring to the global variable using the \"global\" keyword.\n",
    "- By that Python will get to know that we are working with global vaiable, rather than creating new local vaiable with the same name"
   ]
  },
  {
   "cell_type": "code",
   "execution_count": 15,
   "id": "10a99ef5-9d25-4b01-99b7-92b53c309be4",
   "metadata": {},
   "outputs": [
    {
     "name": "stdout",
     "output_type": "stream",
     "text": [
      "Before modifying global vaiable - 10\n",
      "After modifying global vaiable - 20\n"
     ]
    }
   ],
   "source": [
    "# Example\n",
    "global_var = 10\n",
    "\n",
    "def modify_var():\n",
    "    global global_var # Using the 'global' keyword to indicate you're referring to the global variable\n",
    "    global_var = global_var + 10\n",
    "\n",
    "print(f\"Before modifying global vaiable - {global_var}\")\n",
    "modify_var()\n",
    "print(f\"After modifying global vaiable - {global_var}\")"
   ]
  },
  {
   "cell_type": "markdown",
   "id": "b88f8186-b6a7-434f-b239-d284a7cc3d01",
   "metadata": {},
   "source": [
    "# 10. What is the data type of None?"
   ]
  },
  {
   "cell_type": "markdown",
   "id": "200768c6-fb9f-4b06-8441-228746dc3fe5",
   "metadata": {},
   "source": [
    "- \"None\" is a special constant representing the absence of a value or a \"null\" value. \n",
    "- It is often used to indicate that a variable does not have a meaningful value assigned to it.\n",
    "- The data type of \"None\" is \"NoneType\"."
   ]
  },
  {
   "cell_type": "code",
   "execution_count": 16,
   "id": "5826a46b-a644-4d37-a804-e0295187568c",
   "metadata": {},
   "outputs": [
    {
     "name": "stdout",
     "output_type": "stream",
     "text": [
      "<class 'NoneType'>\n"
     ]
    }
   ],
   "source": [
    "val = None\n",
    "print(type(None))"
   ]
  },
  {
   "cell_type": "markdown",
   "id": "7da39c9f-ab0a-4786-aa86-817f0cc265c5",
   "metadata": {},
   "source": [
    "# 11. What does the sentence import areallyourpetsnamederic do?"
   ]
  },
  {
   "cell_type": "markdown",
   "id": "7c9b3720-6bfd-4b30-812f-6cc78d9ca708",
   "metadata": {},
   "source": [
    "- In Python, the import statement is used to import modules or packages, which are collections of code that can be used in a program.\n",
    "- The module or package being imported is usually a valid identifier following the \"import\" keyword.\n",
    "- In this case, we are inporting the pcakage called \"areallyourpetsnamederic\" and it is does not corresponds to any Python module or package name\n",
    "- If we excute this statement it results in \"ModuleNotFoundError\" indicates that the module could not be found"
   ]
  },
  {
   "cell_type": "code",
   "execution_count": 17,
   "id": "4d67b193-406c-4177-9049-6564b6e130c3",
   "metadata": {},
   "outputs": [
    {
     "ename": "ModuleNotFoundError",
     "evalue": "No module named 'areallyourpetsnamederic'",
     "output_type": "error",
     "traceback": [
      "\u001b[0;31m---------------------------------------------------------------------------\u001b[0m",
      "\u001b[0;31mModuleNotFoundError\u001b[0m                       Traceback (most recent call last)",
      "Cell \u001b[0;32mIn [17], line 1\u001b[0m\n\u001b[0;32m----> 1\u001b[0m \u001b[38;5;28;01mimport\u001b[39;00m \u001b[38;5;21;01mareallyourpetsnamederic\u001b[39;00m\n",
      "\u001b[0;31mModuleNotFoundError\u001b[0m: No module named 'areallyourpetsnamederic'"
     ]
    }
   ],
   "source": [
    "import areallyourpetsnamederic"
   ]
  },
  {
   "cell_type": "markdown",
   "id": "74be84a5-ca1f-466e-a410-ed1dd8bf46e5",
   "metadata": {},
   "source": [
    "# 12. If you had a bacon() feature in a spam module, what would you call it after importing spam?"
   ]
  },
  {
   "cell_type": "markdown",
   "id": "d06b82a0-5898-4c40-a411-c43f1c957435",
   "metadata": {},
   "source": [
    "- After importing the spam module, you can access the bacon() feature using the dot notation"
   ]
  },
  {
   "cell_type": "markdown",
   "id": "e87c4ac6-9972-4fd2-98c9-42fc9464c17e",
   "metadata": {},
   "source": [
    "import spam\n",
    "\n",
    "spam.bacon()"
   ]
  },
  {
   "cell_type": "markdown",
   "id": "83f6e239-b785-4b3e-b988-73ff5ec860c7",
   "metadata": {},
   "source": [
    "# 13. What can you do to save a programme from crashing if it encounters an error?"
   ]
  },
  {
   "cell_type": "markdown",
   "id": "d915a4e8-ce7b-4e37-a0ef-2a816fd75814",
   "metadata": {},
   "source": [
    "<p>Preventing a program from crashing when encountering an error involves implementing proper error handling and exception management techniques. </p>\n",
    "\n",
    "- Use Try-Catch Blocks:\n",
    "    - Wrap critical parts of your code in try-catch blocks (or equivalent constructs in other programming languages) to catch and handle exceptions\n",
    "    - When an exception occurs, the catch block can handle the error gracefully and possibly recover from it.\n",
    "\n",
    "<p>In python programming language, we are using \"try\" and \"except\" block to handle the crashing of the program</p>"
   ]
  },
  {
   "cell_type": "code",
   "execution_count": 18,
   "id": "f78d22d1-8d41-428d-8d8b-dc1803862e35",
   "metadata": {},
   "outputs": [
    {
     "ename": "ZeroDivisionError",
     "evalue": "division by zero",
     "output_type": "error",
     "traceback": [
      "\u001b[0;31m---------------------------------------------------------------------------\u001b[0m",
      "\u001b[0;31mZeroDivisionError\u001b[0m                         Traceback (most recent call last)",
      "Cell \u001b[0;32mIn [18], line 2\u001b[0m\n\u001b[1;32m      1\u001b[0m \u001b[38;5;66;03m# Example without try except block\u001b[39;00m\n\u001b[0;32m----> 2\u001b[0m \u001b[38;5;241;43m5\u001b[39;49m\u001b[38;5;241;43m/\u001b[39;49m\u001b[38;5;241;43m0\u001b[39;49m  \u001b[38;5;66;03m# line crashes the program\u001b[39;00m\n\u001b[1;32m      3\u001b[0m \u001b[38;5;28mprint\u001b[39m(\u001b[38;5;124m\"\u001b[39m\u001b[38;5;124mProgram completed\u001b[39m\u001b[38;5;124m\"\u001b[39m)\n",
      "\u001b[0;31mZeroDivisionError\u001b[0m: division by zero"
     ]
    }
   ],
   "source": [
    "# Example without try except block\n",
    "5/0  # line crashes the program\n",
    "print(\"Program completed\")\n",
    "\n",
    "# In this example the program will crashes at 5/0 and print statement will not execute"
   ]
  },
  {
   "cell_type": "code",
   "execution_count": 19,
   "id": "8ab29b3b-8d69-4d01-b94d-7a9099c2fea6",
   "metadata": {},
   "outputs": [
    {
     "name": "stdout",
     "output_type": "stream",
     "text": [
      "exception handled\n",
      "program completed\n"
     ]
    }
   ],
   "source": [
    "# Example with try except block\n",
    "try:\n",
    "    5/0\n",
    "except:\n",
    "    print(\"exception handled\")\n",
    "print(\"program completed\")\n",
    "\n",
    "# In this example the program will not crashes at 5/0 because we handled the that line with try except block\n",
    "# after handling the exception the program will continue to work as it follows"
   ]
  },
  {
   "cell_type": "markdown",
   "id": "dd1cfe12-8546-45ea-841e-010a5554c915",
   "metadata": {},
   "source": [
    "# 14. What is the purpose of the try clause? What is the purpose of the except clause?"
   ]
  },
  {
   "cell_type": "markdown",
   "id": "5fe23874-8823-4a08-ab24-6c47ca3a1839",
   "metadata": {},
   "source": [
    "<p><strong><span style=\"font-family: monospace;\">Role of Try and Except:</span></strong></p>\n",
    "<ul>\n",
    "<li>\n",
    "<p><strong><code>try</code> block:</strong> The code within the <code>try</code> block contains the statements that may potentially raise an exception. It allows you to specify the section of code that you want to monitor for exceptions.</p>\n",
    "</li>\n",
    "<li>\n",
    "<p><strong><code>except</code> block:</strong> If an exception occurs within the <code>try</code> block, the corresponding <code>except</code> block(s) are executed. The <code>except</code> block allows you to define the actions or code that should be executed when a specific exception is raised. You can have multiple <code>except</code> blocks to handle different types of exceptions.</p>\n",
    "</li>\n",
    "<li>The <strong>else</strong> block allows you run code without errors.</li>\n",
    "<li>The <strong>finally</strong> block executes code regardless of the try-and-except blocks.</li>\n",
    "<li> Use the <strong>raise</strong> keyword to throw (or raise) an exception.</li>\n",
    "</ul>"
   ]
  },
  {
   "cell_type": "code",
   "execution_count": 20,
   "id": "4cce5c3a-14a1-4488-889c-de118ca187e4",
   "metadata": {},
   "outputs": [
    {
     "name": "stdout",
     "output_type": "stream",
     "text": [
      "division by zero\n"
     ]
    }
   ],
   "source": [
    "# Example:\n",
    "try:\n",
    "    # Code that might raise an exception\n",
    "    10/0\n",
    "except Exception as ex:\n",
    "    # Code to handle the exception\n",
    "    print(ex)"
   ]
  },
  {
   "cell_type": "code",
   "execution_count": null,
   "id": "e56260cc-0c56-4b1b-ab8f-026b559f7eba",
   "metadata": {},
   "outputs": [],
   "source": []
  }
 ],
 "metadata": {
  "kernelspec": {
   "display_name": "Python 3 (ipykernel)",
   "language": "python",
   "name": "python3"
  },
  "language_info": {
   "codemirror_mode": {
    "name": "ipython",
    "version": 3
   },
   "file_extension": ".py",
   "mimetype": "text/x-python",
   "name": "python",
   "nbconvert_exporter": "python",
   "pygments_lexer": "ipython3",
   "version": "3.10.6"
  }
 },
 "nbformat": 4,
 "nbformat_minor": 5
}
